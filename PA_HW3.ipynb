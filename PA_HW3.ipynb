{
  "nbformat": 4,
  "nbformat_minor": 0,
  "metadata": {
    "colab": {
      "provenance": [],
      "authorship_tag": "ABX9TyMkafYf0o95emUSFUUvogKj",
      "include_colab_link": true
    },
    "kernelspec": {
      "name": "python3",
      "display_name": "Python 3"
    },
    "language_info": {
      "name": "python"
    }
  },
  "cells": [
    {
      "cell_type": "markdown",
      "metadata": {
        "id": "view-in-github",
        "colab_type": "text"
      },
      "source": [
        "<a href=\"https://colab.research.google.com/github/sathvikabm/HW3-PredictiveAnalytics/blob/main/PA_HW3.ipynb\" target=\"_parent\"><img src=\"https://colab.research.google.com/assets/colab-badge.svg\" alt=\"Open In Colab\"/></a>"
      ]
    },
    {
      "cell_type": "code",
      "execution_count": 4,
      "metadata": {
        "id": "RwW8Jp9Jb-ZR"
      },
      "outputs": [],
      "source": [
        "# HW3 Predictive Analytics\n",
        "# Step 1: Problem Statement\n",
        "# Q1 - Lung_Cancer Prediction - Lung Cancer Prediction Air Pollution, Alcohol, Smoking & Risk of Lung Cancer\n",
        "# The dataset contains information on patients with lung cancer, including their age, gender, air pollution exposure, alcohol use, dust allergy,\n",
        "# occupational hazards, genetic risk, chronic lung disease, balanced diet, obesity, smoking, passive smoker, chest pain, coughing of blood, fatigue,\n",
        "# weight loss ,shortness of breath ,wheezing ,swallowing difficulty ,clubbing of finger nails and snoring\n",
        "\n",
        "import pandas as pd\n",
        "import numpy as np\n",
        "from sklearn.model_selection import train_test_split, GridSearchCV\n",
        "from sklearn.preprocessing import StandardScaler, LabelEncoder\n",
        "from sklearn.neighbors import KNeighborsClassifier\n",
        "from sklearn.ensemble import RandomForestClassifier\n",
        "from sklearn.metrics import classification_report, accuracy_score\n",
        "import matplotlib.pyplot as plt\n",
        "import seaborn as sns"
      ]
    },
    {
      "cell_type": "code",
      "source": [
        "from google.colab import drive\n",
        "import pandas as pd"
      ],
      "metadata": {
        "id": "dVH4UQm2dPcy"
      },
      "execution_count": 5,
      "outputs": []
    },
    {
      "cell_type": "code",
      "source": [
        "# Here is the website - https://www.kaggle.com/datasets/thedevastator/cancer-patients-and-air-pollution-a-new-link/data\n",
        "drive.mount('/content/drive')"
      ],
      "metadata": {
        "colab": {
          "base_uri": "https://localhost:8080/"
        },
        "id": "dKFi4oWceIZd",
        "outputId": "2592a247-44c9-4a0c-b3e8-5827e822d4ba"
      },
      "execution_count": 6,
      "outputs": [
        {
          "output_type": "stream",
          "name": "stdout",
          "text": [
            "Mounted at /content/drive\n"
          ]
        }
      ]
    },
    {
      "cell_type": "code",
      "source": [
        "# Step 2: Data Collection\n",
        "file_path = '/content/drive/My Drive/Dataset_LungCancer/dataset.csv'"
      ],
      "metadata": {
        "id": "-zOuVbLkeNTl"
      },
      "execution_count": 7,
      "outputs": []
    },
    {
      "cell_type": "code",
      "source": [
        "df = pd.read_csv(file_path)\n",
        "\n",
        "# Display the first few rows of the dataframe\n",
        "print(df.head())"
      ],
      "metadata": {
        "colab": {
          "base_uri": "https://localhost:8080/"
        },
        "id": "fgY-SQr4ed3n",
        "outputId": "06ebd31c-f572-445a-9fa5-c41f0bc8ef1b"
      },
      "execution_count": 8,
      "outputs": [
        {
          "output_type": "stream",
          "name": "stdout",
          "text": [
            "   index Patient Id  Age  Gender  Air Pollution  Alcohol use  Dust Allergy  \\\n",
            "0      0         P1   33       1              2            4             5   \n",
            "1      1        P10   17       1              3            1             5   \n",
            "2      2       P100   35       1              4            5             6   \n",
            "3      3      P1000   37       1              7            7             7   \n",
            "4      4       P101   46       1              6            8             7   \n",
            "\n",
            "   OccuPational Hazards  Genetic Risk  chronic Lung Disease  Balanced Diet  \\\n",
            "0                     4             3                     2              2   \n",
            "1                     3             4                     2              2   \n",
            "2                     5             5                     4              6   \n",
            "3                     7             6                     7              7   \n",
            "4                     7             7                     6              7   \n",
            "\n",
            "   Obesity  Smoking  Passive Smoker  Chest Pain  Coughing of Blood  Fatigue  \\\n",
            "0        4        3               2           2                  4        3   \n",
            "1        2        2               4           2                  3        1   \n",
            "2        7        2               3           4                  8        8   \n",
            "3        7        7               7           7                  8        4   \n",
            "4        7        8               7           7                  9        3   \n",
            "\n",
            "   Weight Loss  Shortness of Breath  Wheezing  Swallowing Difficulty  \\\n",
            "0            4                    2         2                      3   \n",
            "1            3                    7         8                      6   \n",
            "2            7                    9         2                      1   \n",
            "3            2                    3         1                      4   \n",
            "4            2                    4         1                      4   \n",
            "\n",
            "   Clubbing of Finger Nails  Frequent Cold  Dry Cough  Snoring   Level  \n",
            "0                         1              2          3        4     Low  \n",
            "1                         2              1          7        2  Medium  \n",
            "2                         4              6          7        2    High  \n",
            "3                         5              6          7        5    High  \n",
            "4                         2              4          2        3    High  \n"
          ]
        }
      ]
    },
    {
      "cell_type": "code",
      "source": [
        "# Printing the total number of rows and columns in the dataset\n",
        "print(f\"The dataset has {df.shape[0]} rows (data points) and {df.shape[1]} columns (features).\")"
      ],
      "metadata": {
        "colab": {
          "base_uri": "https://localhost:8080/"
        },
        "id": "vkbNbpMMgTzP",
        "outputId": "99a474c9-6c2e-492a-df1e-5dea66d2d77e"
      },
      "execution_count": 9,
      "outputs": [
        {
          "output_type": "stream",
          "name": "stdout",
          "text": [
            "The dataset has 1000 rows (data points) and 26 columns (features).\n"
          ]
        }
      ]
    },
    {
      "cell_type": "code",
      "source": [
        "# Step 3: Data cleaning, Validation, Preprocessing\n",
        "\n",
        "# Step a: Handling Missing Values - Dropping rows with any missing values\n",
        "df = df.dropna()\n",
        "\n",
        "# Step b: Removing Duplicates - Dropping duplicate rows if any\n",
        "df = df.drop_duplicates()\n",
        "\n",
        "# Step c: Correcting Data Errors - This step is subjective and might require domain knowledge\n",
        "# For example, ensuring that age is a reasonable value\n",
        "df = df[(df['Age'] <= 100) & (df['Age'] > 0)]\n",
        "\n",
        "# Display cleaned data\n",
        "print(df.head())\n",
        "print(f\"The cleaned dataset has {df.shape[0]} rows (data points) and {df.shape[1]} columns (features).\")"
      ],
      "metadata": {
        "colab": {
          "base_uri": "https://localhost:8080/"
        },
        "id": "s8pr9aLbq1Za",
        "outputId": "0c0be565-ce02-40c7-f024-abbd54ab39b0"
      },
      "execution_count": 10,
      "outputs": [
        {
          "output_type": "stream",
          "name": "stdout",
          "text": [
            "   index Patient Id  Age  Gender  Air Pollution  Alcohol use  Dust Allergy  \\\n",
            "0      0         P1   33       1              2            4             5   \n",
            "1      1        P10   17       1              3            1             5   \n",
            "2      2       P100   35       1              4            5             6   \n",
            "3      3      P1000   37       1              7            7             7   \n",
            "4      4       P101   46       1              6            8             7   \n",
            "\n",
            "   OccuPational Hazards  Genetic Risk  chronic Lung Disease  Balanced Diet  \\\n",
            "0                     4             3                     2              2   \n",
            "1                     3             4                     2              2   \n",
            "2                     5             5                     4              6   \n",
            "3                     7             6                     7              7   \n",
            "4                     7             7                     6              7   \n",
            "\n",
            "   Obesity  Smoking  Passive Smoker  Chest Pain  Coughing of Blood  Fatigue  \\\n",
            "0        4        3               2           2                  4        3   \n",
            "1        2        2               4           2                  3        1   \n",
            "2        7        2               3           4                  8        8   \n",
            "3        7        7               7           7                  8        4   \n",
            "4        7        8               7           7                  9        3   \n",
            "\n",
            "   Weight Loss  Shortness of Breath  Wheezing  Swallowing Difficulty  \\\n",
            "0            4                    2         2                      3   \n",
            "1            3                    7         8                      6   \n",
            "2            7                    9         2                      1   \n",
            "3            2                    3         1                      4   \n",
            "4            2                    4         1                      4   \n",
            "\n",
            "   Clubbing of Finger Nails  Frequent Cold  Dry Cough  Snoring   Level  \n",
            "0                         1              2          3        4     Low  \n",
            "1                         2              1          7        2  Medium  \n",
            "2                         4              6          7        2    High  \n",
            "3                         5              6          7        5    High  \n",
            "4                         2              4          2        3    High  \n",
            "The cleaned dataset has 1000 rows (data points) and 26 columns (features).\n"
          ]
        }
      ]
    },
    {
      "cell_type": "code",
      "source": [
        "# Step 3\n",
        "# Data Cleaning: Identifying Outliers\n",
        "\n",
        "plt.figure(figsize=(16, 16))\n",
        "for i, j in enumerate(df.select_dtypes(include='number').columns):\n",
        "    plt.subplot(5, 5, i+1)\n",
        "    sns.boxplot(df[j])\n",
        "    plt.xlabel(f\"{j}\")\n",
        "    plt.tight_layout()\n",
        "plt.subplots_adjust()\n",
        "plt.show()\n"
      ],
      "metadata": {
        "colab": {
          "base_uri": "https://localhost:8080/",
          "height": 1000
        },
        "id": "VB1gRgMWgT8L",
        "outputId": "70009f35-be6b-47a6-c64f-a809d46e5a93"
      },
      "execution_count": 11,
      "outputs": [
        {
          "output_type": "display_data",
          "data": {
            "text/plain": [
              "<Figure size 1600x1600 with 24 Axes>"
            ],
            "image/png": "[encoded data removed]"
          },
          "metadata": {}
        }
      ]
    },
    {
      "cell_type": "code",
      "source": [
        "df=df.replace({'Level':{'Low': 1, 'Medium': 2, 'High': 3}})\n",
        "df.dtypes"
      ],
      "metadata": {
        "colab": {
          "base_uri": "https://localhost:8080/"
        },
        "id": "Z0uJz6IHLybB",
        "outputId": "f5c22ee1-da2e-4fcc-a9b3-a7b7403b8eba"
      },
      "execution_count": 12,
      "outputs": [
        {
          "output_type": "execute_result",
          "data": {
            "text/plain": [
              "index                        int64\n",
              "Patient Id                  object\n",
              "Age                          int64\n",
              "Gender                       int64\n",
              "Air Pollution                int64\n",
              "Alcohol use                  int64\n",
              "Dust Allergy                 int64\n",
              "OccuPational Hazards         int64\n",
              "Genetic Risk                 int64\n",
              "chronic Lung Disease         int64\n",
              "Balanced Diet                int64\n",
              "Obesity                      int64\n",
              "Smoking                      int64\n",
              "Passive Smoker               int64\n",
              "Chest Pain                   int64\n",
              "Coughing of Blood            int64\n",
              "Fatigue                      int64\n",
              "Weight Loss                  int64\n",
              "Shortness of Breath          int64\n",
              "Wheezing                     int64\n",
              "Swallowing Difficulty        int64\n",
              "Clubbing of Finger Nails     int64\n",
              "Frequent Cold                int64\n",
              "Dry Cough                    int64\n",
              "Snoring                      int64\n",
              "Level                        int64\n",
              "dtype: object"
            ]
          },
          "metadata": {},
          "execution_count": 12
        }
      ]
    },
    {
      "cell_type": "code",
      "source": [
        "df = df.drop(['index'], axis = 'columns', inplace=False)\n",
        "df = df.drop(['Patient Id'], axis = 'columns',inplace=False)"
      ],
      "metadata": {
        "id": "kEVxeKDOMgCE"
      },
      "execution_count": 13,
      "outputs": []
    },
    {
      "cell_type": "code",
      "source": [
        "# Step 3 : Data Preprocessing\n",
        "# Before Train Test Split, split X(Input) & y(target) from the original Dataframe\n",
        "\n",
        "X = df.drop(['Level'], axis = 'columns')\n",
        "y = df['Level']"
      ],
      "metadata": {
        "id": "zVVRkCgFwW9h"
      },
      "execution_count": 14,
      "outputs": []
    },
    {
      "cell_type": "code",
      "source": [
        "X.shape, y.shape"
      ],
      "metadata": {
        "colab": {
          "base_uri": "https://localhost:8080/"
        },
        "id": "yVHKXcp5wXh2",
        "outputId": "d889686b-704c-474c-9f35-fe09efe9e9be"
      },
      "execution_count": 15,
      "outputs": [
        {
          "output_type": "execute_result",
          "data": {
            "text/plain": [
              "((1000, 23), (1000,))"
            ]
          },
          "metadata": {},
          "execution_count": 15
        }
      ]
    },
    {
      "cell_type": "code",
      "source": [
        "from sklearn.model_selection import train_test_split\n",
        "X_train, X_test, y_train, y_test = train_test_split(X, y, test_size = 0.2, random_state = 42)"
      ],
      "metadata": {
        "id": "NEeucnINGoJf"
      },
      "execution_count": 16,
      "outputs": []
    },
    {
      "cell_type": "code",
      "source": [
        "y_train.value_counts()"
      ],
      "metadata": {
        "colab": {
          "base_uri": "https://localhost:8080/"
        },
        "id": "3yqGkixwG36h",
        "outputId": "c46d34e6-e58d-4f5c-9dd3-1f7b2d311efe"
      },
      "execution_count": 17,
      "outputs": [
        {
          "output_type": "execute_result",
          "data": {
            "text/plain": [
              "3    283\n",
              "2    269\n",
              "1    248\n",
              "Name: Level, dtype: int64"
            ]
          },
          "metadata": {},
          "execution_count": 17
        }
      ]
    },
    {
      "cell_type": "code",
      "source": [
        "y_test.value_counts()"
      ],
      "metadata": {
        "colab": {
          "base_uri": "https://localhost:8080/"
        },
        "id": "wlxrzhgQG6BJ",
        "outputId": "0288b759-de0b-4ee1-a940-016fd1d87ec3"
      },
      "execution_count": 18,
      "outputs": [
        {
          "output_type": "execute_result",
          "data": {
            "text/plain": [
              "3    82\n",
              "2    63\n",
              "1    55\n",
              "Name: Level, dtype: int64"
            ]
          },
          "metadata": {},
          "execution_count": 18
        }
      ]
    },
    {
      "cell_type": "code",
      "source": [
        "# Feature Scaling using StandardScaler\n",
        "# Standardization\n",
        "\n",
        "from sklearn.preprocessing import StandardScaler\n",
        "scaler = StandardScaler()\n",
        "\n",
        "X_train_new_scaled = scaler.fit_transform(X_train)\n",
        "X_test_new_scaled = scaler.transform(X_test)"
      ],
      "metadata": {
        "id": "rQva3risG8qA"
      },
      "execution_count": 19,
      "outputs": []
    },
    {
      "cell_type": "code",
      "source": [
        "#Applying Principal Component Analysis (PCA) for dimentionality Reduction\n",
        "\n",
        "from sklearn.decomposition import PCA\n",
        "pca = PCA(0.95)\n",
        "X_train_pca = pca.fit_transform(X_train_new_scaled)\n",
        "X_test_pca = pca.transform(X_test_new_scaled)"
      ],
      "metadata": {
        "id": "awF2SGI0Mlcz"
      },
      "execution_count": 20,
      "outputs": []
    },
    {
      "cell_type": "code",
      "source": [
        "X_train_pca.shape, X_test_pca.shape"
      ],
      "metadata": {
        "colab": {
          "base_uri": "https://localhost:8080/"
        },
        "id": "D6cHYLizMo1O",
        "outputId": "7387361e-2458-41dd-9899-90212b48bad8"
      },
      "execution_count": 21,
      "outputs": [
        {
          "output_type": "execute_result",
          "data": {
            "text/plain": [
              "((800, 14), (200, 14))"
            ]
          },
          "metadata": {},
          "execution_count": 21
        }
      ]
    },
    {
      "cell_type": "code",
      "source": [
        "#Class Imbalance Handling using SMOTE\n",
        "\n",
        "from imblearn.over_sampling import SMOTE\n",
        "smote = SMOTE(random_state=42)\n",
        "X_train_resampled, y_train_resampled = smote.fit_resample(X_train_pca, y_train)\n",
        "X_test_resampled, y_test_resampled = smote.fit_resample(X_test_pca, y_test)\n"
      ],
      "metadata": {
        "id": "Xja5tV7JMrpY"
      },
      "execution_count": 22,
      "outputs": []
    },
    {
      "cell_type": "code",
      "source": [
        "X_train_resampled.shape, y_train_resampled.shape"
      ],
      "metadata": {
        "colab": {
          "base_uri": "https://localhost:8080/"
        },
        "id": "xrnDaJwVMr3W",
        "outputId": "0a64680f-3f73-4f4a-87bf-32b93db1bc74"
      },
      "execution_count": 23,
      "outputs": [
        {
          "output_type": "execute_result",
          "data": {
            "text/plain": [
              "((849, 14), (849,))"
            ]
          },
          "metadata": {},
          "execution_count": 23
        }
      ]
    },
    {
      "cell_type": "code",
      "source": [
        "X_test_resampled.shape, y_test_resampled.shape"
      ],
      "metadata": {
        "colab": {
          "base_uri": "https://localhost:8080/"
        },
        "id": "t8ttxJ7lMsAw",
        "outputId": "ddf8473b-f5f8-4e02-928a-410eee1336e2"
      },
      "execution_count": 24,
      "outputs": [
        {
          "output_type": "execute_result",
          "data": {
            "text/plain": [
              "((246, 14), (246,))"
            ]
          },
          "metadata": {},
          "execution_count": 24
        }
      ]
    },
    {
      "cell_type": "code",
      "source": [
        "y_train_resampled.value_counts()"
      ],
      "metadata": {
        "colab": {
          "base_uri": "https://localhost:8080/"
        },
        "id": "JoIBqLU8MzyP",
        "outputId": "2d57662d-e813-4c10-c42b-4c7a188880a4"
      },
      "execution_count": 25,
      "outputs": [
        {
          "output_type": "execute_result",
          "data": {
            "text/plain": [
              "2    283\n",
              "3    283\n",
              "1    283\n",
              "Name: Level, dtype: int64"
            ]
          },
          "metadata": {},
          "execution_count": 25
        }
      ]
    },
    {
      "cell_type": "code",
      "source": [
        "y_test_resampled.value_counts()"
      ],
      "metadata": {
        "colab": {
          "base_uri": "https://localhost:8080/"
        },
        "id": "K7ibAG9BM2Ck",
        "outputId": "6d0baab8-1422-4175-f243-5c1210d48ed1"
      },
      "execution_count": 26,
      "outputs": [
        {
          "output_type": "execute_result",
          "data": {
            "text/plain": [
              "2    82\n",
              "3    82\n",
              "1    82\n",
              "Name: Level, dtype: int64"
            ]
          },
          "metadata": {},
          "execution_count": 26
        }
      ]
    },
    {
      "cell_type": "code",
      "source": [
        "# Step 4: Modelling - KNN, SVM, Decision Tree, Random Forest, Gradient Boosting\n",
        "# KNN implementation\n",
        "\n",
        "import numpy as np\n",
        "from collections import Counter\n",
        "\n",
        "def euclidean_distance(x1, x2):\n",
        "    return np.sqrt(np.sum((x1 - x2) ** 2))\n",
        "\n",
        "class KNN:\n",
        "    def __init__(self, k=3):\n",
        "        self.k = k\n",
        "\n",
        "    def fit(self, X, y):\n",
        "        self.X_train = X\n",
        "        self.y_train = y\n",
        "\n",
        "    def predict(self, X):\n",
        "        y_pred = [self._predict(x) for x in X]\n",
        "        return np.array(y_pred)\n",
        "\n",
        "    def _predict(self, x):\n",
        "        # Compute distances between x and all examples in the training set\n",
        "        distances = [euclidean_distance(x, x_train) for x_train in self.X_train]\n",
        "        # Get the indices of the K-nearest training examples\n",
        "        k_indices = np.argsort(distances)[:self.k]\n",
        "        # Get the labels of the K-nearest training examples\n",
        "        k_nearest_labels = [self.y_train[i] for i in k_indices]\n",
        "        # Majority vote, most common class label\n",
        "        most_common = Counter(k_nearest_labels).most_common(1)\n",
        "        return most_common[0][0]\n"
      ],
      "metadata": {
        "id": "5CgqB8QGQ_0s"
      },
      "execution_count": 27,
      "outputs": []
    },
    {
      "cell_type": "markdown",
      "source": [
        "**1.KNN**\n",
        "Description:\n",
        "K-Nearest Neighbors (KNN) is a non-parametric, lazy algorithm used for classification and regression. It calculates the distance between a test sample and every training sample to find the K-nearest neighbors and assigns a class based on the majority class of its neighbors.\n",
        "\n",
        "  Pros:\n",
        "  Simple to understand and easy to implement.\n",
        "  No assumptions about data distribution.\n",
        "  Cons:\n",
        "  Computationally expensive, especially with a large dataset.\n",
        "  Sensitive to irrelevant features and the scale of the data.\n",
        "\n",
        "  Key Hyperparameters:\n",
        "  Number of Neighbors (K)\n",
        "  Distance Metric (e.g., Euclidean, Manhattan)\n",
        "\n",
        "**2. Support Vector Machines (SVM)**\n",
        "Description:\n",
        "Support Vector Machines (SVM) is a supervised learning algorithm used for classification and regression tasks. It works by finding the hyperplane that distinctly classifies the data points in a dataset.\n",
        "\n",
        "  Pros:\n",
        "  Works well with a clear margin of separation.\n",
        "  Effective in high dimensional spaces.\n",
        "  Cons:\n",
        "  Sensitive to noise.\n",
        "  Does not perform well when classes are overlapping.\n",
        "\n",
        "  Key Hyperparameters:\n",
        "  C (Regularization parameter)\n",
        "  Kernel (linear, poly, rbf, sigmoid)\n",
        "  Gamma (Kernel Coefficient)\n",
        "\n",
        "**3. Decision Trees**\n",
        "Description:\n",
        "Decision Trees split the data into subsets based on the value of input features. This process is performed recursively, resulting in a tree-like model of decisions.\n",
        "\n",
        "  Pros:\n",
        "  Easy to understand and visualize.\n",
        "  Requires little data preprocessing.\n",
        "  Cons:\n",
        "  Prone to overfitting.\n",
        "  Sensitive to small variations in the data.\n",
        "\n",
        "  Key Hyperparameters:\n",
        "  Max Depth of Tree\n",
        "  Minimum Samples Split\n",
        "  Minimum Samples Leaf\n",
        "\n",
        "**4. Random Forest**\n",
        "Description:\n",
        "Random Forest is an ensemble method that creates multiple decision trees and merges them together to get a more accurate and stable prediction.\n",
        "\n",
        "  Pros:\n",
        "  Reduces overfitting by averaging the result.\n",
        "  Handles missing values and maintains accuracy for missing data.\n",
        "  Cons:\n",
        "  Complexity due to the construction of multiple trees.\n",
        "  Requires more computational resources and time.\n",
        "\n",
        "  Key Hyperparameters:\n",
        "  Number of Estimators (trees)\n",
        "  Max Depth of Tree\n",
        "  Minimum Samples Split\n",
        "  Minimum Samples Leaf\n",
        "\n",
        "\n",
        "**5. Gradient Boosting**\n",
        "Description:\n",
        "Gradient Boosting is an ensemble technique where new models are built to correct the errors of existing models. Trees are built sequentially.\n",
        "\n",
        "  Pros:\n",
        "  Often provides predictive accuracy.\n",
        "  Can work on different loss functions.\n",
        "  Cons:\n",
        "  Prone to overfitting.\n",
        "  Requires careful tuning of different hyperparameters.\n",
        "\n",
        "  Key Hyperparameters:\n",
        "  Learning Rate\n",
        "  Number of Estimators (trees)\n",
        "  Max Depth of Tree\n",
        "  Minimum Samples Split\n",
        "  Minimum Samples Leaf"
      ],
      "metadata": {
        "id": "maGIGrAcUcXo"
      }
    },
    {
      "cell_type": "code",
      "source": [
        "# Step 4\n",
        "# Models - KNN, SVM, Decision Tree, Random Forest, Gradient Boosting\n",
        "import numpy as np\n",
        "from sklearn.metrics import classification_report, accuracy_score\n",
        "from sklearn.svm import SVC\n",
        "from sklearn.tree import DecisionTreeClassifier\n",
        "from sklearn.ensemble import RandomForestClassifier, GradientBoostingClassifier\n",
        "\n",
        "\n",
        "# Initialize the models\n",
        "models = {\n",
        "    \"KNN\": KNN(k=3),\n",
        "    \"SVM\": SVC(),\n",
        "    \"DecisionTree\": DecisionTreeClassifier(),\n",
        "    \"RandomForest\": RandomForestClassifier(min_samples_split=30),\n",
        "    \"GradientBoosting\": GradientBoostingClassifier()\n",
        "}\n",
        "\n",
        "# Train, predict, and evaluate each model\n",
        "for name, model in models.items():\n",
        "    if name == \"KNN\":\n",
        "        model.fit(X_train_resampled, y_train_resampled)\n",
        "        y_pred = model.predict(X_test_resampled)\n",
        "    else:\n",
        "        model.fit(X_train_resampled, y_train_resampled)\n",
        "        y_pred = model.predict(X_test_resampled)\n",
        "\n",
        "    print(f\"Model: {name}\")\n",
        "    print(f\"Accuracy: {accuracy_score(y_test_resampled, y_pred)}\")\n",
        "    print(classification_report(y_test_resampled, y_pred))\n",
        "    print(\"-\"*50)\n"
      ],
      "metadata": {
        "colab": {
          "base_uri": "https://localhost:8080/"
        },
        "id": "zlq_nQXyM4uq",
        "outputId": "7a142591-972b-4224-c4f8-5a8bb1276d9e"
      },
      "execution_count": 28,
      "outputs": [
        {
          "output_type": "stream",
          "name": "stdout",
          "text": [
            "Model: KNN\n",
            "Accuracy: 1.0\n",
            "              precision    recall  f1-score   support\n",
            "\n",
            "           1       1.00      1.00      1.00        82\n",
            "           2       1.00      1.00      1.00        82\n",
            "           3       1.00      1.00      1.00        82\n",
            "\n",
            "    accuracy                           1.00       246\n",
            "   macro avg       1.00      1.00      1.00       246\n",
            "weighted avg       1.00      1.00      1.00       246\n",
            "\n",
            "--------------------------------------------------\n",
            "Model: SVM\n",
            "Accuracy: 1.0\n",
            "              precision    recall  f1-score   support\n",
            "\n",
            "           1       1.00      1.00      1.00        82\n",
            "           2       1.00      1.00      1.00        82\n",
            "           3       1.00      1.00      1.00        82\n",
            "\n",
            "    accuracy                           1.00       246\n",
            "   macro avg       1.00      1.00      1.00       246\n",
            "weighted avg       1.00      1.00      1.00       246\n",
            "\n",
            "--------------------------------------------------\n",
            "Model: DecisionTree\n",
            "Accuracy: 0.9959349593495935\n",
            "              precision    recall  f1-score   support\n",
            "\n",
            "           1       0.99      1.00      0.99        82\n",
            "           2       1.00      0.99      0.99        82\n",
            "           3       1.00      1.00      1.00        82\n",
            "\n",
            "    accuracy                           1.00       246\n",
            "   macro avg       1.00      1.00      1.00       246\n",
            "weighted avg       1.00      1.00      1.00       246\n",
            "\n",
            "--------------------------------------------------\n",
            "Model: RandomForest\n",
            "Accuracy: 1.0\n",
            "              precision    recall  f1-score   support\n",
            "\n",
            "           1       1.00      1.00      1.00        82\n",
            "           2       1.00      1.00      1.00        82\n",
            "           3       1.00      1.00      1.00        82\n",
            "\n",
            "    accuracy                           1.00       246\n",
            "   macro avg       1.00      1.00      1.00       246\n",
            "weighted avg       1.00      1.00      1.00       246\n",
            "\n",
            "--------------------------------------------------\n",
            "Model: GradientBoosting\n",
            "Accuracy: 1.0\n",
            "              precision    recall  f1-score   support\n",
            "\n",
            "           1       1.00      1.00      1.00        82\n",
            "           2       1.00      1.00      1.00        82\n",
            "           3       1.00      1.00      1.00        82\n",
            "\n",
            "    accuracy                           1.00       246\n",
            "   macro avg       1.00      1.00      1.00       246\n",
            "weighted avg       1.00      1.00      1.00       246\n",
            "\n",
            "--------------------------------------------------\n"
          ]
        }
      ]
    },
    {
      "cell_type": "code",
      "source": [
        "# Step 5: Hyperparameter Tuning - SVC and Decision Tree\n",
        "# Random Search is performed and Hyper Parameter Tuning\n",
        "\n",
        "from sklearn.model_selection import RandomizedSearchCV\n",
        "from sklearn.tree import DecisionTreeClassifier\n",
        "from sklearn.svm import SVC\n",
        "from sklearn.metrics import accuracy_score, confusion_matrix\n",
        "\n",
        "# Setting up parameters for Decision Tree\n",
        "dt_params = {\n",
        "    \"criterion\": [\"gini\", \"entropy\"],\n",
        "    \"splitter\": [\"best\", \"random\"],\n",
        "    \"max_depth\": list(range(1,50)),\n",
        "    \"min_samples_split\": list(range(2,50)),\n",
        "    \"min_samples_leaf\": list(range(1,50))\n",
        "}\n",
        "\n",
        "# Setting up parameters for SVM\n",
        "svm_params = {\n",
        "    'C': [0.1, 1, 10, 100],\n",
        "    'gamma': [1, 0.1, 0.01, 0.001],\n",
        "    'kernel': ['rbf', 'poly', 'sigmoid']\n",
        "}\n",
        "\n",
        "# Creating models\n",
        "dt_model = DecisionTreeClassifier(random_state=0)\n",
        "svm_model = SVC(random_state=0)\n",
        "\n",
        "# Randomized Search for Decision Tree\n",
        "dt_search = RandomizedSearchCV(dt_model, dt_params, n_iter=100, cv=5, scoring='accuracy', n_jobs=-1, random_state=0)\n",
        "dt_search.fit(X_train_resampled, y_train_resampled)\n",
        "\n",
        "# Randomized Search for SVM\n",
        "svm_search = RandomizedSearchCV(svm_model, svm_params, n_iter=100, cv=5, scoring='accuracy', n_jobs=-1, random_state=0)\n",
        "svm_search.fit(X_train_resampled, y_train_resampled)\n",
        "\n",
        "# Best hyperparameters and accuracy for Decision Tree\n",
        "print(\"Decision Tree Best Hyperparameters:\")\n",
        "print(dt_search.best_params_)\n",
        "print(f\"Decision Tree Training Accuracy: {accuracy_score(y_train_resampled, dt_search.best_estimator_.predict(X_train_resampled))}\")\n",
        "print(f\"Decision Tree Test Accuracy: {accuracy_score(y_test_resampled, dt_search.best_estimator_.predict(X_test_resampled))}\")\n",
        "\n",
        "# Best hyperparameters and accuracy for SVM\n",
        "print(\"\\nSVM Best Hyperparameters:\")\n",
        "print(svm_search.best_params_)\n",
        "print(f\"SVM Training Accuracy: {accuracy_score(y_train_resampled, svm_search.best_estimator_.predict(X_train_resampled))}\")\n",
        "print(f\"SVM Test Accuracy: {accuracy_score(y_test_resampled, svm_search.best_estimator_.predict(X_test_resampled))}\")"
      ],
      "metadata": {
        "colab": {
          "base_uri": "https://localhost:8080/"
        },
        "id": "NOoZVxTpVsMg",
        "outputId": "6edb081a-f4be-4b99-87e4-e26a69d921c1"
      },
      "execution_count": 29,
      "outputs": [
        {
          "output_type": "stream",
          "name": "stderr",
          "text": [
            "/usr/local/lib/python3.10/dist-packages/sklearn/model_selection/_search.py:305: UserWarning: The total space of parameters 48 is smaller than n_iter=100. Running 48 iterations. For exhaustive searches, use GridSearchCV.\n",
            "  warnings.warn(\n"
          ]
        },
        {
          "output_type": "stream",
          "name": "stdout",
          "text": [
            "Decision Tree Best Hyperparameters:\n",
            "{'splitter': 'random', 'min_samples_split': 6, 'min_samples_leaf': 4, 'max_depth': 37, 'criterion': 'entropy'}\n",
            "Decision Tree Training Accuracy: 1.0\n",
            "Decision Tree Test Accuracy: 0.9959349593495935\n",
            "\n",
            "SVM Best Hyperparameters:\n",
            "{'kernel': 'poly', 'gamma': 1, 'C': 0.1}\n",
            "SVM Training Accuracy: 1.0\n",
            "SVM Test Accuracy: 1.0\n"
          ]
        }
      ]
    },
    {
      "cell_type": "markdown",
      "source": [
        "**Decision Tree Classifier**\n",
        "\n",
        "Best Hyperparameters:\n",
        "Splitter: random\n",
        "Min_samples_split: 6\n",
        "Min_samples_leaf: 4\n",
        "Max_depth: 37\n",
        "Criterion: entropy\n",
        "Training Accuracy: 1.0 (100%)\n",
        "Test Accuracy: 0.996 (99.6%)\n",
        "\n",
        "**Support Vector Machine (SVM)**\n",
        "\n",
        "Best Hyperparameters:\n",
        "Kernel: poly\n",
        "Gamma: 1\n",
        "C: 0.1\n",
        "Training Accuracy: 1.0 (100%)\n",
        "Test Accuracy: 1.0 (100%)"
      ],
      "metadata": {
        "id": "TK81KyefXZFC"
      }
    },
    {
      "cell_type": "code",
      "source": [
        "# Step 6: Result\n",
        "import pandas as pd\n",
        "\n",
        "# Adjust display settings\n",
        "pd.set_option('display.max_columns', None)  # Show all columns\n",
        "pd.set_option('display.max_rows', None)  # Show all rows\n",
        "pd.set_option('display.max_colwidth', None)  # Show full content of each cell\n",
        "\n",
        "print(\"Step1 - Problem Statement\")\n",
        "print(\"Prediction of lung Cancer - Lung Cancer Prediction Air Pollution, Alcohol, Smoking & Risk of Lung Cancer\")\n",
        "print(\"This dataset contains information on patients with : \\n lung cancer, including their age, gender,\\n air pollution exposure, alcohol use, dust allergy,\\n occupational hazards, genetic risk, chronic lung disease,\\n balanced diet, obesity, smoking,\\n passive smoker, chest pain, coughing of blood,\\n fatigue, weight loss, shortness of breath,\\n wheezing, swallowing difficulty, clubbing of finger nails and snoring\")\n",
        "print(\"\")\n",
        "\n",
        "print(\"Step2 - Data Collection\")\n",
        "print(\"https://www.kaggle.com/datasets/thedevastator/cancer-patients-and-air-pollution-a-new-link/data\")\n",
        "print(\"\")\n",
        "\n",
        "print(\"Step3 - Data Cleaning, Validation, Preprocessing\")\n",
        "print(\"Handling Missing Values, Removing Duplicates, Correcting Data Errors\")\n",
        "print(\"\")\n",
        "\n",
        "print(\"Step4 - Modelling\")\n",
        "\n",
        "data = {\n",
        "    'Algorithm': ['KNN', 'SVM', 'Decision Tree', 'Random Forest', 'Gradient Boosting'],\n",
        "    'Summary': [\n",
        "        'K-Nearest Neighbors (KNN) is a non-parametric, lazy algorithm used for classification and regression It calculates the distance between a test sample and every training sample to find the K-nearest neighbors and assigns a class based on the majority class of its neighbors' ,\n",
        "        'Support Vector Machines (SVM) is a supervised learning algorithm used for classification and regression tasks. It works by finding the hyperplane that distinctly classifies the data points in a dataset',\n",
        "        'Decision Trees split the data into subsets based on the value of input features. This process is performed recursively, resulting in a tree-like model of decisions',\n",
        "        'Random Forest is an ensemble method that creates multiple decision trees and merges them together to get a more accurate and stable prediction',\n",
        "        'Gradient Boosting is an ensemble technique where new models are built to correct the errors of existing models. Trees are built sequentially'\n",
        "    ],\n",
        "    'Pros': [\n",
        "        'a) Simple to understand and easy to implement b) No assumptions about data distribution' ,\n",
        "        'a) Works well with a clear margin of separation b) Effective in high dimensional spaces',\n",
        "        'a) Easy to understand and visualize b) Requires little data preprocessing',\n",
        "        'a) Reduces overfitting by averaging the result b) Handles missing values and maintains accuracy for missing data',\n",
        "        'a) Often provides predictive accuracy b) Can work on different loss functions'\n",
        "    ],\n",
        "    'Cons': [\n",
        "        'a) Computationally expensive, especially with a large dataset b) Sensitive to irrelevant features and the scale of the data' ,\n",
        "        'Sensitive to noise b) Does not perform well when classes are overlapping',\n",
        "        'a) Prone to overfitting b) Sensitive to small variations in the data',\n",
        "        'a) Complexity due to the construction of multiple trees b) Requires more computational resources and time',\n",
        "        'a) Prone to overfitting b) Requires careful tuning of different hyperparameters'\n",
        "    ],\n",
        "    'Hyperparameters': [\n",
        "        'a) Number of Neighbors (K) b) Distance Metric (e.g., Euclidean, Manhattan)' ,\n",
        "        'a) C (Regularization parameter) b) Kernel (linear, poly, rbf, sigmoid c) Gamma (Kernel Coefficient)',\n",
        "        'a) Max Depth of Tree b) Minimum Samples Split c) Minimum Samples Leaf',\n",
        "        'a) Number of Estimators (trees) b) Max Depth of Tree c) Minimum Samples Split d) Minimum Samples Leaf',\n",
        "        'a) Learning Rate b) Number of Estimators (trees) c) Max Depth of Tree d) Minimum Samples Split e) Minimum Samples Leaf'\n",
        "    ]\n",
        "}\n",
        "\n",
        "df = pd.DataFrame(data)\n",
        "df\n"
      ],
      "metadata": {
        "colab": {
          "base_uri": "https://localhost:8080/",
          "height": 682
        },
        "id": "dp-sForfk_wO",
        "outputId": "32195c5c-d518-4058-eadb-e41737f28205"
      },
      "execution_count": 30,
      "outputs": [
        {
          "output_type": "stream",
          "name": "stdout",
          "text": [
            "Step1 - Problem Statement\n",
            "Prediction of lung Cancer - Lung Cancer Prediction Air Pollution, Alcohol, Smoking & Risk of Lung Cancer\n",
            "This dataset contains information on patients with : \n",
            " lung cancer, including their age, gender,\n",
            " air pollution exposure, alcohol use, dust allergy,\n",
            " occupational hazards, genetic risk, chronic lung disease,\n",
            " balanced diet, obesity, smoking,\n",
            " passive smoker, chest pain, coughing of blood,\n",
            " fatigue, weight loss, shortness of breath,\n",
            " wheezing, swallowing difficulty, clubbing of finger nails and snoring\n",
            "\n",
            "Step2 - Data Collection\n",
            "https://www.kaggle.com/datasets/thedevastator/cancer-patients-and-air-pollution-a-new-link/data\n",
            "\n",
            "Step4 - Modelling\n"
          ]
        },
        {
          "output_type": "execute_result",
          "data": {
            "text/plain": [
              "           Algorithm  \\\n",
              "0                KNN   \n",
              "1                SVM   \n",
              "2      Decision Tree   \n",
              "3      Random Forest   \n",
              "4  Gradient Boosting   \n",
              "\n",
              "                                                                                                                                                                                                                                                                            Summary  \\\n",
              "0  K-Nearest Neighbors (KNN) is a non-parametric, lazy algorithm used for classification and regression It calculates the distance between a test sample and every training sample to find the K-nearest neighbors and assigns a class based on the majority class of its neighbors   \n",
              "1                                                                         Support Vector Machines (SVM) is a supervised learning algorithm used for classification and regression tasks. It works by finding the hyperplane that distinctly classifies the data points in a dataset   \n",
              "2                                                                                                               Decision Trees split the data into subsets based on the value of input features. This process is performed recursively, resulting in a tree-like model of decisions   \n",
              "3                                                                                                                                    Random Forest is an ensemble method that creates multiple decision trees and merges them together to get a more accurate and stable prediction   \n",
              "4                                                                                                                                      Gradient Boosting is an ensemble technique where new models are built to correct the errors of existing models. Trees are built sequentially   \n",
              "\n",
              "                                                                                                               Pros  \\\n",
              "0                           a) Simple to understand and easy to implement b) No assumptions about data distribution   \n",
              "1                           a) Works well with a clear margin of separation b) Effective in high dimensional spaces   \n",
              "2                                         a) Easy to understand and visualize b) Requires little data preprocessing   \n",
              "3  a) Reduces overfitting by averaging the result b) Handles missing values and maintains accuracy for missing data   \n",
              "4                                     a) Often provides predictive accuracy b) Can work on different loss functions   \n",
              "\n",
              "                                                                                                                          Cons  \\\n",
              "0  a) Computationally expensive, especially with a large dataset b) Sensitive to irrelevant features and the scale of the data   \n",
              "1                                                     Sensitive to noise b) Does not perform well when classes are overlapping   \n",
              "2                                                         a) Prone to overfitting b) Sensitive to small variations in the data   \n",
              "3                    a) Complexity due to the construction of multiple trees b) Requires more computational resources and time   \n",
              "4                                              a) Prone to overfitting b) Requires careful tuning of different hyperparameters   \n",
              "\n",
              "                                                                                                          Hyperparameters  \n",
              "0                                              a) Number of Neighbors (K) b) Distance Metric (e.g., Euclidean, Manhattan)  \n",
              "1                     a) C (Regularization parameter) b) Kernel (linear, poly, rbf, sigmoid c) Gamma (Kernel Coefficient)  \n",
              "2                                                   a) Max Depth of Tree b) Minimum Samples Split c) Minimum Samples Leaf  \n",
              "3                   a) Number of Estimators (trees) b) Max Depth of Tree c) Minimum Samples Split d) Minimum Samples Leaf  \n",
              "4  a) Learning Rate b) Number of Estimators (trees) c) Max Depth of Tree d) Minimum Samples Split e) Minimum Samples Leaf  "
            ],
            "text/html": [
              "\n",
              "  <div id=\"df-418a5321-147e-4bbf-baf7-3f498d0cf48d\" class=\"colab-df-container\">\n",
              "    <div>\n",
              "<style scoped>\n",
              "    .dataframe tbody tr th:only-of-type {\n",
              "        vertical-align: middle;\n",
              "    }\n",
              "\n",
              "    .dataframe tbody tr th {\n",
              "        vertical-align: top;\n",
              "    }\n",
              "\n",
              "    .dataframe thead th {\n",
              "        text-align: right;\n",
              "    }\n",
              "</style>\n",
              "<table border=\"1\" class=\"dataframe\">\n",
              "  <thead>\n",
              "    <tr style=\"text-align: right;\">\n",
              "      <th></th>\n",
              "      <th>Algorithm</th>\n",
              "      <th>Summary</th>\n",
              "      <th>Pros</th>\n",
              "      <th>Cons</th>\n",
              "      <th>Hyperparameters</th>\n",
              "    </tr>\n",
              "  </thead>\n",
              "  <tbody>\n",
              "    <tr>\n",
              "      <th>0</th>\n",
              "      <td>KNN</td>\n",
              "      <td>K-Nearest Neighbors (KNN) is a non-parametric, lazy algorithm used for classification and regression It calculates the distance between a test sample and every training sample to find the K-nearest neighbors and assigns a class based on the majority class of its neighbors</td>\n",
              "      <td>a) Simple to understand and easy to implement b) No assumptions about data distribution</td>\n",
              "      <td>a) Computationally expensive, especially with a large dataset b) Sensitive to irrelevant features and the scale of the data</td>\n",
              "      <td>a) Number of Neighbors (K) b) Distance Metric (e.g., Euclidean, Manhattan)</td>\n",
              "    </tr>\n",
              "    <tr>\n",
              "      <th>1</th>\n",
              "      <td>SVM</td>\n",
              "      <td>Support Vector Machines (SVM) is a supervised learning algorithm used for classification and regression tasks. It works by finding the hyperplane that distinctly classifies the data points in a dataset</td>\n",
              "      <td>a) Works well with a clear margin of separation b) Effective in high dimensional spaces</td>\n",
              "      <td>Sensitive to noise b) Does not perform well when classes are overlapping</td>\n",
              "      <td>a) C (Regularization parameter) b) Kernel (linear, poly, rbf, sigmoid c) Gamma (Kernel Coefficient)</td>\n",
              "    </tr>\n",
              "    <tr>\n",
              "      <th>2</th>\n",
              "      <td>Decision Tree</td>\n",
              "      <td>Decision Trees split the data into subsets based on the value of input features. This process is performed recursively, resulting in a tree-like model of decisions</td>\n",
              "      <td>a) Easy to understand and visualize b) Requires little data preprocessing</td>\n",
              "      <td>a) Prone to overfitting b) Sensitive to small variations in the data</td>\n",
              "      <td>a) Max Depth of Tree b) Minimum Samples Split c) Minimum Samples Leaf</td>\n",
              "    </tr>\n",
              "    <tr>\n",
              "      <th>3</th>\n",
              "      <td>Random Forest</td>\n",
              "      <td>Random Forest is an ensemble method that creates multiple decision trees and merges them together to get a more accurate and stable prediction</td>\n",
              "      <td>a) Reduces overfitting by averaging the result b) Handles missing values and maintains accuracy for missing data</td>\n",
              "      <td>a) Complexity due to the construction of multiple trees b) Requires more computational resources and time</td>\n",
              "      <td>a) Number of Estimators (trees) b) Max Depth of Tree c) Minimum Samples Split d) Minimum Samples Leaf</td>\n",
              "    </tr>\n",
              "    <tr>\n",
              "      <th>4</th>\n",
              "      <td>Gradient Boosting</td>\n",
              "      <td>Gradient Boosting is an ensemble technique where new models are built to correct the errors of existing models. Trees are built sequentially</td>\n",
              "      <td>a) Often provides predictive accuracy b) Can work on different loss functions</td>\n",
              "      <td>a) Prone to overfitting b) Requires careful tuning of different hyperparameters</td>\n",
              "      <td>a) Learning Rate b) Number of Estimators (trees) c) Max Depth of Tree d) Minimum Samples Split e) Minimum Samples Leaf</td>\n",
              "    </tr>\n",
              "  </tbody>\n",
              "</table>\n",
              "</div>\n",
              "    <div class=\"colab-df-buttons\">\n",
              "\n",
              "  <div class=\"colab-df-container\">\n",
              "    <button class=\"colab-df-convert\" onclick=\"convertToInteractive('df-418a5321-147e-4bbf-baf7-3f498d0cf48d')\"\n",
              "            title=\"Convert this dataframe to an interactive table.\"\n",
              "            style=\"display:none;\">\n",
              "\n",
              "  <svg xmlns=\"http://www.w3.org/2000/svg\" height=\"24px\" viewBox=\"0 -960 960 960\">\n",
              "    <path d=\"M120-120v-720h720v720H120Zm60-500h600v-160H180v160Zm220 220h160v-160H400v160Zm0 220h160v-160H400v160ZM180-400h160v-160H180v160Zm440 0h160v-160H620v160ZM180-180h160v-160H180v160Zm440 0h160v-160H620v160Z\"/>\n",
              "  </svg>\n",
              "    </button>\n",
              "\n",
              "  <style>\n",
              "    .colab-df-container {\n",
              "      display:flex;\n",
              "      gap: 12px;\n",
              "    }\n",
              "\n",
              "    .colab-df-convert {\n",
              "      background-color: #E8F0FE;\n",
              "      border: none;\n",
              "      border-radius: 50%;\n",
              "      cursor: pointer;\n",
              "      display: none;\n",
              "      fill: #1967D2;\n",
              "      height: 32px;\n",
              "      padding: 0 0 0 0;\n",
              "      width: 32px;\n",
              "    }\n",
              "\n",
              "    .colab-df-convert:hover {\n",
              "      background-color: #E2EBFA;\n",
              "      box-shadow: 0px 1px 2px rgba(60, 64, 67, 0.3), 0px 1px 3px 1px rgba(60, 64, 67, 0.15);\n",
              "      fill: #174EA6;\n",
              "    }\n",
              "\n",
              "    .colab-df-buttons div {\n",
              "      margin-bottom: 4px;\n",
              "    }\n",
              "\n",
              "    [theme=dark] .colab-df-convert {\n",
              "      background-color: #3B4455;\n",
              "      fill: #D2E3FC;\n",
              "    }\n",
              "\n",
              "    [theme=dark] .colab-df-convert:hover {\n",
              "      background-color: #434B5C;\n",
              "      box-shadow: 0px 1px 3px 1px rgba(0, 0, 0, 0.15);\n",
              "      filter: drop-shadow(0px 1px 2px rgba(0, 0, 0, 0.3));\n",
              "      fill: #FFFFFF;\n",
              "    }\n",
              "  </style>\n",
              "\n",
              "    <script>\n",
              "      const buttonEl =\n",
              "        document.querySelector('#df-418a5321-147e-4bbf-baf7-3f498d0cf48d button.colab-df-convert');\n",
              "      buttonEl.style.display =\n",
              "        google.colab.kernel.accessAllowed ? 'block' : 'none';\n",
              "\n",
              "      async function convertToInteractive(key) {\n",
              "        const element = document.querySelector('#df-418a5321-147e-4bbf-baf7-3f498d0cf48d');\n",
              "        const dataTable =\n",
              "          await google.colab.kernel.invokeFunction('convertToInteractive',\n",
              "                                                    [key], {});\n",
              "        if (!dataTable) return;\n",
              "\n",
              "        const docLinkHtml = 'Like what you see? Visit the ' +\n",
              "          '<a target=\"_blank\" href=https://colab.research.google.com/notebooks/data_table.ipynb>data table notebook</a>'\n",
              "          + ' to learn more about interactive tables.';\n",
              "        element.innerHTML = '';\n",
              "        dataTable['output_type'] = 'display_data';\n",
              "        await google.colab.output.renderOutput(dataTable, element);\n",
              "        const docLink = document.createElement('div');\n",
              "        docLink.innerHTML = docLinkHtml;\n",
              "        element.appendChild(docLink);\n",
              "      }\n",
              "    </script>\n",
              "  </div>\n",
              "\n",
              "\n",
              "<div id=\"df-964bfaee-ca89-47de-ad35-5805aefc951b\">\n",
              "  <button class=\"colab-df-quickchart\" onclick=\"quickchart('df-964bfaee-ca89-47de-ad35-5805aefc951b')\"\n",
              "            title=\"Suggest charts.\"\n",
              "            style=\"display:none;\">\n",
              "\n",
              "<svg xmlns=\"http://www.w3.org/2000/svg\" height=\"24px\"viewBox=\"0 0 24 24\"\n",
              "     width=\"24px\">\n",
              "    <g>\n",
              "        <path d=\"M19 3H5c-1.1 0-2 .9-2 2v14c0 1.1.9 2 2 2h14c1.1 0 2-.9 2-2V5c0-1.1-.9-2-2-2zM9 17H7v-7h2v7zm4 0h-2V7h2v10zm4 0h-2v-4h2v4z\"/>\n",
              "    </g>\n",
              "</svg>\n",
              "  </button>\n",
              "\n",
              "<style>\n",
              "  .colab-df-quickchart {\n",
              "      --bg-color: #E8F0FE;\n",
              "      --fill-color: #1967D2;\n",
              "      --hover-bg-color: #E2EBFA;\n",
              "      --hover-fill-color: #174EA6;\n",
              "      --disabled-fill-color: #AAA;\n",
              "      --disabled-bg-color: #DDD;\n",
              "  }\n",
              "\n",
              "  [theme=dark] .colab-df-quickchart {\n",
              "      --bg-color: #3B4455;\n",
              "      --fill-color: #D2E3FC;\n",
              "      --hover-bg-color: #434B5C;\n",
              "      --hover-fill-color: #FFFFFF;\n",
              "      --disabled-bg-color: #3B4455;\n",
              "      --disabled-fill-color: #666;\n",
              "  }\n",
              "\n",
              "  .colab-df-quickchart {\n",
              "    background-color: var(--bg-color);\n",
              "    border: none;\n",
              "    border-radius: 50%;\n",
              "    cursor: pointer;\n",
              "    display: none;\n",
              "    fill: var(--fill-color);\n",
              "    height: 32px;\n",
              "    padding: 0;\n",
              "    width: 32px;\n",
              "  }\n",
              "\n",
              "  .colab-df-quickchart:hover {\n",
              "    background-color: var(--hover-bg-color);\n",
              "    box-shadow: 0 1px 2px rgba(60, 64, 67, 0.3), 0 1px 3px 1px rgba(60, 64, 67, 0.15);\n",
              "    fill: var(--button-hover-fill-color);\n",
              "  }\n",
              "\n",
              "  .colab-df-quickchart-complete:disabled,\n",
              "  .colab-df-quickchart-complete:disabled:hover {\n",
              "    background-color: var(--disabled-bg-color);\n",
              "    fill: var(--disabled-fill-color);\n",
              "    box-shadow: none;\n",
              "  }\n",
              "\n",
              "  .colab-df-spinner {\n",
              "    border: 2px solid var(--fill-color);\n",
              "    border-color: transparent;\n",
              "    border-bottom-color: var(--fill-color);\n",
              "    animation:\n",
              "      spin 1s steps(1) infinite;\n",
              "  }\n",
              "\n",
              "  @keyframes spin {\n",
              "    0% {\n",
              "      border-color: transparent;\n",
              "      border-bottom-color: var(--fill-color);\n",
              "      border-left-color: var(--fill-color);\n",
              "    }\n",
              "    20% {\n",
              "      border-color: transparent;\n",
              "      border-left-color: var(--fill-color);\n",
              "      border-top-color: var(--fill-color);\n",
              "    }\n",
              "    30% {\n",
              "      border-color: transparent;\n",
              "      border-left-color: var(--fill-color);\n",
              "      border-top-color: var(--fill-color);\n",
              "      border-right-color: var(--fill-color);\n",
              "    }\n",
              "    40% {\n",
              "      border-color: transparent;\n",
              "      border-right-color: var(--fill-color);\n",
              "      border-top-color: var(--fill-color);\n",
              "    }\n",
              "    60% {\n",
              "      border-color: transparent;\n",
              "      border-right-color: var(--fill-color);\n",
              "    }\n",
              "    80% {\n",
              "      border-color: transparent;\n",
              "      border-right-color: var(--fill-color);\n",
              "      border-bottom-color: var(--fill-color);\n",
              "    }\n",
              "    90% {\n",
              "      border-color: transparent;\n",
              "      border-bottom-color: var(--fill-color);\n",
              "    }\n",
              "  }\n",
              "</style>\n",
              "\n",
              "  <script>\n",
              "    async function quickchart(key) {\n",
              "      const quickchartButtonEl =\n",
              "        document.querySelector('#' + key + ' button');\n",
              "      quickchartButtonEl.disabled = true;  // To prevent multiple clicks.\n",
              "      quickchartButtonEl.classList.add('colab-df-spinner');\n",
              "      try {\n",
              "        const charts = await google.colab.kernel.invokeFunction(\n",
              "            'suggestCharts', [key], {});\n",
              "      } catch (error) {\n",
              "        console.error('Error during call to suggestCharts:', error);\n",
              "      }\n",
              "      quickchartButtonEl.classList.remove('colab-df-spinner');\n",
              "      quickchartButtonEl.classList.add('colab-df-quickchart-complete');\n",
              "    }\n",
              "    (() => {\n",
              "      let quickchartButtonEl =\n",
              "        document.querySelector('#df-964bfaee-ca89-47de-ad35-5805aefc951b button');\n",
              "      quickchartButtonEl.style.display =\n",
              "        google.colab.kernel.accessAllowed ? 'block' : 'none';\n",
              "    })();\n",
              "  </script>\n",
              "</div>\n",
              "    </div>\n",
              "  </div>\n"
            ]
          },
          "metadata": {},
          "execution_count": 30
        }
      ]
    }
  ]
}